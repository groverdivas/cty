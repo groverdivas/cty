{
 "cells": [
  {
   "cell_type": "code",
   "execution_count": 1,
   "metadata": {},
   "outputs": [
    {
     "name": "stderr",
     "output_type": "stream",
     "text": [
      "Using TensorFlow backend.\n"
     ]
    }
   ],
   "source": [
    "import pandas as pd\n",
    "import matplotlib.pyplot as plt\n",
    "import numpy as np\n",
    "from sklearn.metrics import mean_squared_error\n",
    "from sklearn.preprocessing import MinMaxScaler\n",
    "from keras.models import Sequential\n",
    "from keras.layers import Dense\n",
    "from keras.layers import LSTM\n",
    "from math import sqrt"
   ]
  },
  {
   "cell_type": "code",
   "execution_count": 2,
   "metadata": {},
   "outputs": [
    {
     "data": {
      "text/html": [
       "<div>\n",
       "<style scoped>\n",
       "    .dataframe tbody tr th:only-of-type {\n",
       "        vertical-align: middle;\n",
       "    }\n",
       "\n",
       "    .dataframe tbody tr th {\n",
       "        vertical-align: top;\n",
       "    }\n",
       "\n",
       "    .dataframe thead th {\n",
       "        text-align: right;\n",
       "    }\n",
       "</style>\n",
       "<table border=\"1\" class=\"dataframe\">\n",
       "  <thead>\n",
       "    <tr style=\"text-align: right;\">\n",
       "      <th></th>\n",
       "      <th>Hour</th>\n",
       "      <th>Temp</th>\n",
       "      <th>Value</th>\n",
       "    </tr>\n",
       "    <tr>\n",
       "      <th>Date</th>\n",
       "      <th></th>\n",
       "      <th></th>\n",
       "      <th></th>\n",
       "    </tr>\n",
       "  </thead>\n",
       "  <tbody>\n",
       "    <tr>\n",
       "      <th>2018-07-21 15:20:00</th>\n",
       "      <td>15</td>\n",
       "      <td>88.970010</td>\n",
       "      <td>59.391994</td>\n",
       "    </tr>\n",
       "    <tr>\n",
       "      <th>2018-07-21 15:25:00</th>\n",
       "      <td>15</td>\n",
       "      <td>89.020004</td>\n",
       "      <td>59.647995</td>\n",
       "    </tr>\n",
       "    <tr>\n",
       "      <th>2018-07-21 15:30:00</th>\n",
       "      <td>15</td>\n",
       "      <td>89.189995</td>\n",
       "      <td>58.943996</td>\n",
       "    </tr>\n",
       "    <tr>\n",
       "      <th>2018-07-21 15:35:00</th>\n",
       "      <td>15</td>\n",
       "      <td>89.200005</td>\n",
       "      <td>74.431990</td>\n",
       "    </tr>\n",
       "    <tr>\n",
       "      <th>2018-07-21 15:40:00</th>\n",
       "      <td>15</td>\n",
       "      <td>88.480000</td>\n",
       "      <td>61.439995</td>\n",
       "    </tr>\n",
       "  </tbody>\n",
       "</table>\n",
       "</div>"
      ],
      "text/plain": [
       "                     Hour       Temp      Value\n",
       "Date                                           \n",
       "2018-07-21 15:20:00    15  88.970010  59.391994\n",
       "2018-07-21 15:25:00    15  89.020004  59.647995\n",
       "2018-07-21 15:30:00    15  89.189995  58.943996\n",
       "2018-07-21 15:35:00    15  89.200005  74.431990\n",
       "2018-07-21 15:40:00    15  88.480000  61.439995"
      ]
     },
     "execution_count": 2,
     "metadata": {},
     "output_type": "execute_result"
    }
   ],
   "source": [
    "data = pd.read_csv('data.csv', parse_dates=[\"Date\"], infer_datetime_format=True, index_col='Date')\n",
    "data = data[['Hour', 'Temp', 'Weekday', 'Value']]\n",
    "data = data.drop(['Weekday'], axis=1)\n",
    "data.head()"
   ]
  },
  {
   "cell_type": "code",
   "execution_count": 3,
   "metadata": {},
   "outputs": [],
   "source": [
    "def moving_average(df, window):\n",
    "\n",
    "    rolling_mean = pd.DataFrame(index=df.index, columns=['Value', 'Temp'])\n",
    "    rolling_mean['Value'] = df['Value'].rolling(window=window).mean()\n",
    "    rolling_mean['Temp'] = df['Temp'].rolling(window=window).mean()\n",
    "    #rolling_mean.dropna(inplace=True)\n",
    "\n",
    "    return rolling_mean"
   ]
  },
  {
   "cell_type": "code",
   "execution_count": 4,
   "metadata": {},
   "outputs": [
    {
     "data": {
      "text/html": [
       "<div>\n",
       "<style scoped>\n",
       "    .dataframe tbody tr th:only-of-type {\n",
       "        vertical-align: middle;\n",
       "    }\n",
       "\n",
       "    .dataframe tbody tr th {\n",
       "        vertical-align: top;\n",
       "    }\n",
       "\n",
       "    .dataframe thead th {\n",
       "        text-align: right;\n",
       "    }\n",
       "</style>\n",
       "<table border=\"1\" class=\"dataframe\">\n",
       "  <thead>\n",
       "    <tr style=\"text-align: right;\">\n",
       "      <th></th>\n",
       "      <th>Hour</th>\n",
       "      <th>Temp</th>\n",
       "      <th>Value</th>\n",
       "    </tr>\n",
       "    <tr>\n",
       "      <th>Date</th>\n",
       "      <th></th>\n",
       "      <th></th>\n",
       "      <th></th>\n",
       "    </tr>\n",
       "  </thead>\n",
       "  <tbody>\n",
       "    <tr>\n",
       "      <th>2018-07-21 17:15:00</th>\n",
       "      <td>17</td>\n",
       "      <td>86.399170</td>\n",
       "      <td>63.301328</td>\n",
       "    </tr>\n",
       "    <tr>\n",
       "      <th>2018-07-21 17:20:00</th>\n",
       "      <td>17</td>\n",
       "      <td>86.268336</td>\n",
       "      <td>62.727995</td>\n",
       "    </tr>\n",
       "    <tr>\n",
       "      <th>2018-07-21 17:25:00</th>\n",
       "      <td>17</td>\n",
       "      <td>86.131669</td>\n",
       "      <td>62.098661</td>\n",
       "    </tr>\n",
       "    <tr>\n",
       "      <th>2018-07-21 17:30:00</th>\n",
       "      <td>17</td>\n",
       "      <td>85.979585</td>\n",
       "      <td>62.810661</td>\n",
       "    </tr>\n",
       "    <tr>\n",
       "      <th>2018-07-21 17:35:00</th>\n",
       "      <td>17</td>\n",
       "      <td>85.820419</td>\n",
       "      <td>62.898661</td>\n",
       "    </tr>\n",
       "  </tbody>\n",
       "</table>\n",
       "</div>"
      ],
      "text/plain": [
       "                     Hour       Temp      Value\n",
       "Date                                           \n",
       "2018-07-21 17:15:00    17  86.399170  63.301328\n",
       "2018-07-21 17:20:00    17  86.268336  62.727995\n",
       "2018-07-21 17:25:00    17  86.131669  62.098661\n",
       "2018-07-21 17:30:00    17  85.979585  62.810661\n",
       "2018-07-21 17:35:00    17  85.820419  62.898661"
      ]
     },
     "execution_count": 4,
     "metadata": {},
     "output_type": "execute_result"
    }
   ],
   "source": [
    "smooth = moving_average(data, window=24)\n",
    "data['Temp'] = smooth['Temp']\n",
    "data['Value'] = smooth['Value']\n",
    "data.dropna(inplace=True)\n",
    "data.head()"
   ]
  },
  {
   "cell_type": "code",
   "execution_count": 5,
   "metadata": {},
   "outputs": [],
   "source": [
    "def lagger(df, c, ft):\n",
    "    df_lag = pd.DataFrame(index=df.index, columns = [ft+\"_lag_\"+str(g) for g in range(0, c)])\n",
    "    for i in range(0,c):\n",
    "        v = df.shift(-i)\n",
    "        df_lag[ft+\"_lag_\"+str(i)] = v\n",
    "    df_lag.dropna(inplace=True)\n",
    "    return df_lag"
   ]
  },
  {
   "cell_type": "code",
   "execution_count": 6,
   "metadata": {},
   "outputs": [
    {
     "data": {
      "text/html": [
       "<div>\n",
       "<style scoped>\n",
       "    .dataframe tbody tr th:only-of-type {\n",
       "        vertical-align: middle;\n",
       "    }\n",
       "\n",
       "    .dataframe tbody tr th {\n",
       "        vertical-align: top;\n",
       "    }\n",
       "\n",
       "    .dataframe thead th {\n",
       "        text-align: right;\n",
       "    }\n",
       "</style>\n",
       "<table border=\"1\" class=\"dataframe\">\n",
       "  <thead>\n",
       "    <tr style=\"text-align: right;\">\n",
       "      <th></th>\n",
       "      <th>Hour_lag_0</th>\n",
       "      <th>Hour_lag_1</th>\n",
       "      <th>Hour_lag_2</th>\n",
       "      <th>Hour_lag_3</th>\n",
       "      <th>Hour_lag_4</th>\n",
       "      <th>Hour_lag_5</th>\n",
       "      <th>Hour_lag_6</th>\n",
       "      <th>Hour_lag_7</th>\n",
       "      <th>Hour_lag_8</th>\n",
       "      <th>Hour_lag_9</th>\n",
       "      <th>...</th>\n",
       "      <th>Value_lag_14</th>\n",
       "      <th>Value_lag_15</th>\n",
       "      <th>Value_lag_16</th>\n",
       "      <th>Value_lag_17</th>\n",
       "      <th>Value_lag_18</th>\n",
       "      <th>Value_lag_19</th>\n",
       "      <th>Value_lag_20</th>\n",
       "      <th>Value_lag_21</th>\n",
       "      <th>Value_lag_22</th>\n",
       "      <th>Value_lag_23</th>\n",
       "    </tr>\n",
       "    <tr>\n",
       "      <th>Date</th>\n",
       "      <th></th>\n",
       "      <th></th>\n",
       "      <th></th>\n",
       "      <th></th>\n",
       "      <th></th>\n",
       "      <th></th>\n",
       "      <th></th>\n",
       "      <th></th>\n",
       "      <th></th>\n",
       "      <th></th>\n",
       "      <th></th>\n",
       "      <th></th>\n",
       "      <th></th>\n",
       "      <th></th>\n",
       "      <th></th>\n",
       "      <th></th>\n",
       "      <th></th>\n",
       "      <th></th>\n",
       "      <th></th>\n",
       "      <th></th>\n",
       "      <th></th>\n",
       "    </tr>\n",
       "  </thead>\n",
       "  <tbody>\n",
       "    <tr>\n",
       "      <th>2018-07-21 17:15:00</th>\n",
       "      <td>17.0</td>\n",
       "      <td>17.0</td>\n",
       "      <td>17.0</td>\n",
       "      <td>17.0</td>\n",
       "      <td>17.0</td>\n",
       "      <td>17.0</td>\n",
       "      <td>17.0</td>\n",
       "      <td>17.0</td>\n",
       "      <td>17.0</td>\n",
       "      <td>18.0</td>\n",
       "      <td>...</td>\n",
       "      <td>64.970660</td>\n",
       "      <td>65.855993</td>\n",
       "      <td>66.802660</td>\n",
       "      <td>67.610660</td>\n",
       "      <td>68.573326</td>\n",
       "      <td>68.341326</td>\n",
       "      <td>68.850659</td>\n",
       "      <td>68.405326</td>\n",
       "      <td>68.949326</td>\n",
       "      <td>69.261326</td>\n",
       "    </tr>\n",
       "    <tr>\n",
       "      <th>2018-07-21 17:20:00</th>\n",
       "      <td>17.0</td>\n",
       "      <td>17.0</td>\n",
       "      <td>17.0</td>\n",
       "      <td>17.0</td>\n",
       "      <td>17.0</td>\n",
       "      <td>17.0</td>\n",
       "      <td>17.0</td>\n",
       "      <td>17.0</td>\n",
       "      <td>18.0</td>\n",
       "      <td>18.0</td>\n",
       "      <td>...</td>\n",
       "      <td>65.855993</td>\n",
       "      <td>66.802660</td>\n",
       "      <td>67.610660</td>\n",
       "      <td>68.573326</td>\n",
       "      <td>68.341326</td>\n",
       "      <td>68.850659</td>\n",
       "      <td>68.405326</td>\n",
       "      <td>68.949326</td>\n",
       "      <td>69.261326</td>\n",
       "      <td>70.839993</td>\n",
       "    </tr>\n",
       "    <tr>\n",
       "      <th>2018-07-21 17:25:00</th>\n",
       "      <td>17.0</td>\n",
       "      <td>17.0</td>\n",
       "      <td>17.0</td>\n",
       "      <td>17.0</td>\n",
       "      <td>17.0</td>\n",
       "      <td>17.0</td>\n",
       "      <td>17.0</td>\n",
       "      <td>18.0</td>\n",
       "      <td>18.0</td>\n",
       "      <td>18.0</td>\n",
       "      <td>...</td>\n",
       "      <td>66.802660</td>\n",
       "      <td>67.610660</td>\n",
       "      <td>68.573326</td>\n",
       "      <td>68.341326</td>\n",
       "      <td>68.850659</td>\n",
       "      <td>68.405326</td>\n",
       "      <td>68.949326</td>\n",
       "      <td>69.261326</td>\n",
       "      <td>70.839993</td>\n",
       "      <td>72.647993</td>\n",
       "    </tr>\n",
       "    <tr>\n",
       "      <th>2018-07-21 17:30:00</th>\n",
       "      <td>17.0</td>\n",
       "      <td>17.0</td>\n",
       "      <td>17.0</td>\n",
       "      <td>17.0</td>\n",
       "      <td>17.0</td>\n",
       "      <td>17.0</td>\n",
       "      <td>18.0</td>\n",
       "      <td>18.0</td>\n",
       "      <td>18.0</td>\n",
       "      <td>18.0</td>\n",
       "      <td>...</td>\n",
       "      <td>67.610660</td>\n",
       "      <td>68.573326</td>\n",
       "      <td>68.341326</td>\n",
       "      <td>68.850659</td>\n",
       "      <td>68.405326</td>\n",
       "      <td>68.949326</td>\n",
       "      <td>69.261326</td>\n",
       "      <td>70.839993</td>\n",
       "      <td>72.647993</td>\n",
       "      <td>73.690659</td>\n",
       "    </tr>\n",
       "    <tr>\n",
       "      <th>2018-07-21 17:35:00</th>\n",
       "      <td>17.0</td>\n",
       "      <td>17.0</td>\n",
       "      <td>17.0</td>\n",
       "      <td>17.0</td>\n",
       "      <td>17.0</td>\n",
       "      <td>18.0</td>\n",
       "      <td>18.0</td>\n",
       "      <td>18.0</td>\n",
       "      <td>18.0</td>\n",
       "      <td>18.0</td>\n",
       "      <td>...</td>\n",
       "      <td>68.573326</td>\n",
       "      <td>68.341326</td>\n",
       "      <td>68.850659</td>\n",
       "      <td>68.405326</td>\n",
       "      <td>68.949326</td>\n",
       "      <td>69.261326</td>\n",
       "      <td>70.839993</td>\n",
       "      <td>72.647993</td>\n",
       "      <td>73.690659</td>\n",
       "      <td>73.471993</td>\n",
       "    </tr>\n",
       "  </tbody>\n",
       "</table>\n",
       "<p>5 rows × 72 columns</p>\n",
       "</div>"
      ],
      "text/plain": [
       "                     Hour_lag_0  Hour_lag_1  Hour_lag_2  Hour_lag_3  \\\n",
       "Date                                                                  \n",
       "2018-07-21 17:15:00        17.0        17.0        17.0        17.0   \n",
       "2018-07-21 17:20:00        17.0        17.0        17.0        17.0   \n",
       "2018-07-21 17:25:00        17.0        17.0        17.0        17.0   \n",
       "2018-07-21 17:30:00        17.0        17.0        17.0        17.0   \n",
       "2018-07-21 17:35:00        17.0        17.0        17.0        17.0   \n",
       "\n",
       "                     Hour_lag_4  Hour_lag_5  Hour_lag_6  Hour_lag_7  \\\n",
       "Date                                                                  \n",
       "2018-07-21 17:15:00        17.0        17.0        17.0        17.0   \n",
       "2018-07-21 17:20:00        17.0        17.0        17.0        17.0   \n",
       "2018-07-21 17:25:00        17.0        17.0        17.0        18.0   \n",
       "2018-07-21 17:30:00        17.0        17.0        18.0        18.0   \n",
       "2018-07-21 17:35:00        17.0        18.0        18.0        18.0   \n",
       "\n",
       "                     Hour_lag_8  Hour_lag_9      ...       Value_lag_14  \\\n",
       "Date                                             ...                      \n",
       "2018-07-21 17:15:00        17.0        18.0      ...          64.970660   \n",
       "2018-07-21 17:20:00        18.0        18.0      ...          65.855993   \n",
       "2018-07-21 17:25:00        18.0        18.0      ...          66.802660   \n",
       "2018-07-21 17:30:00        18.0        18.0      ...          67.610660   \n",
       "2018-07-21 17:35:00        18.0        18.0      ...          68.573326   \n",
       "\n",
       "                     Value_lag_15  Value_lag_16  Value_lag_17  Value_lag_18  \\\n",
       "Date                                                                          \n",
       "2018-07-21 17:15:00     65.855993     66.802660     67.610660     68.573326   \n",
       "2018-07-21 17:20:00     66.802660     67.610660     68.573326     68.341326   \n",
       "2018-07-21 17:25:00     67.610660     68.573326     68.341326     68.850659   \n",
       "2018-07-21 17:30:00     68.573326     68.341326     68.850659     68.405326   \n",
       "2018-07-21 17:35:00     68.341326     68.850659     68.405326     68.949326   \n",
       "\n",
       "                     Value_lag_19  Value_lag_20  Value_lag_21  Value_lag_22  \\\n",
       "Date                                                                          \n",
       "2018-07-21 17:15:00     68.341326     68.850659     68.405326     68.949326   \n",
       "2018-07-21 17:20:00     68.850659     68.405326     68.949326     69.261326   \n",
       "2018-07-21 17:25:00     68.405326     68.949326     69.261326     70.839993   \n",
       "2018-07-21 17:30:00     68.949326     69.261326     70.839993     72.647993   \n",
       "2018-07-21 17:35:00     69.261326     70.839993     72.647993     73.690659   \n",
       "\n",
       "                     Value_lag_23  \n",
       "Date                               \n",
       "2018-07-21 17:15:00     69.261326  \n",
       "2018-07-21 17:20:00     70.839993  \n",
       "2018-07-21 17:25:00     72.647993  \n",
       "2018-07-21 17:30:00     73.690659  \n",
       "2018-07-21 17:35:00     73.471993  \n",
       "\n",
       "[5 rows x 72 columns]"
      ]
     },
     "execution_count": 6,
     "metadata": {},
     "output_type": "execute_result"
    }
   ],
   "source": [
    "lag = 24\n",
    "data_lag = pd.DataFrame(index=data.index)\n",
    "data_lag_ = pd.DataFrame(index=data.index)\n",
    "for ft in data.columns:\n",
    "    data_lag_ = lagger(data[ft], lag, ft)\n",
    "    data_lag = pd.concat([data_lag, data_lag_], axis=1)\n",
    "\n",
    "data_lag.dropna(inplace=True)\n",
    "del data_lag_\n",
    "data_lag.head()"
   ]
  },
  {
   "cell_type": "code",
   "execution_count": 7,
   "metadata": {},
   "outputs": [],
   "source": [
    "# for j in ['Hour', 'Temp']:\n",
    "#     for i in range(24,48):\n",
    "#         data_lag = data_lag.drop([j+\"_lag_\"+str(i)], axis=1)\n",
    "        \n",
    "# data_lag.head()"
   ]
  },
  {
   "cell_type": "code",
   "execution_count": 8,
   "metadata": {},
   "outputs": [
    {
     "data": {
      "text/plain": [
       "Index(['Hour_lag_0', 'Hour_lag_1', 'Hour_lag_2', 'Hour_lag_3', 'Hour_lag_4',\n",
       "       'Hour_lag_5', 'Hour_lag_6', 'Hour_lag_7', 'Hour_lag_8', 'Hour_lag_9',\n",
       "       'Hour_lag_10', 'Hour_lag_11', 'Hour_lag_12', 'Hour_lag_13',\n",
       "       'Hour_lag_14', 'Hour_lag_15', 'Hour_lag_16', 'Hour_lag_17',\n",
       "       'Hour_lag_18', 'Hour_lag_19', 'Hour_lag_20', 'Hour_lag_21',\n",
       "       'Hour_lag_22', 'Hour_lag_23', 'Temp_lag_0', 'Temp_lag_1', 'Temp_lag_2',\n",
       "       'Temp_lag_3', 'Temp_lag_4', 'Temp_lag_5', 'Temp_lag_6', 'Temp_lag_7',\n",
       "       'Temp_lag_8', 'Temp_lag_9', 'Temp_lag_10', 'Temp_lag_11', 'Temp_lag_12',\n",
       "       'Temp_lag_13', 'Temp_lag_14', 'Temp_lag_15', 'Temp_lag_16',\n",
       "       'Temp_lag_17', 'Temp_lag_18', 'Temp_lag_19', 'Temp_lag_20',\n",
       "       'Temp_lag_21', 'Temp_lag_22', 'Temp_lag_23', 'Value_lag_0',\n",
       "       'Value_lag_1', 'Value_lag_2', 'Value_lag_3', 'Value_lag_4',\n",
       "       'Value_lag_5', 'Value_lag_6', 'Value_lag_7', 'Value_lag_8',\n",
       "       'Value_lag_9', 'Value_lag_10', 'Value_lag_11', 'Value_lag_12',\n",
       "       'Value_lag_13', 'Value_lag_14', 'Value_lag_15', 'Value_lag_16',\n",
       "       'Value_lag_17', 'Value_lag_18', 'Value_lag_19', 'Value_lag_20',\n",
       "       'Value_lag_21', 'Value_lag_22', 'Value_lag_23'],\n",
       "      dtype='object')"
      ]
     },
     "execution_count": 8,
     "metadata": {},
     "output_type": "execute_result"
    }
   ],
   "source": [
    "data_lag.columns"
   ]
  },
  {
   "cell_type": "code",
   "execution_count": 9,
   "metadata": {},
   "outputs": [],
   "source": [
    "values = data_lag.values\n",
    "\n",
    "scaler = MinMaxScaler(feature_range=(0,1))\n",
    "scaled = scaler.fit_transform(values)\n",
    "#scaled = scale.transform(values)\n",
    "\n",
    "scaler_ = MinMaxScaler(feature_range=(0,1))\n",
    "scale_ = scaler_.fit_transform(values[:,-12:])"
   ]
  },
  {
   "cell_type": "code",
   "execution_count": 10,
   "metadata": {},
   "outputs": [
    {
     "name": "stdout",
     "output_type": "stream",
     "text": [
      "shape of trainh (25795, 1, 24)\n",
      "shape of traint (25795, 1, 24)\n",
      "shape of train (25795, 1, 12) (25795, 12)\n",
      "shape of test (10, 1, 12) (10, 12)\n"
     ]
    }
   ],
   "source": [
    "train = scaled[:-10,:]\n",
    "test = scaled[-10:,:]\n",
    "\n",
    "train_Xh = train[:,:24]#, train[:,12:13]\n",
    "test_Xh = test[:,:24]\n",
    "\n",
    "train_Xt = train[:,24:48]\n",
    "test_Xt = test[:,24:48]\n",
    "\n",
    "train_X, train_y = train[:,48:-12], train[:,-12:]\n",
    "test_X, test_y = test[:,48:-12], test[:,-12:]\n",
    "\n",
    "\n",
    "\n",
    "train_Xh = np.reshape(train_Xh, (train_Xh.shape[0], 1, train_Xh.shape[1]))\n",
    "test_Xh = np.reshape(test_Xh, (test_Xh.shape[0], 1, test_Xh.shape[1]))\n",
    "\n",
    "train_Xt = np.reshape(train_Xt, (train_Xt.shape[0], 1, train_Xt.shape[1]))\n",
    "test_Xt = np.reshape(test_Xt, (test_Xt.shape[0], 1, test_Xt.shape[1]))\n",
    "\n",
    "\n",
    "train_X = np.reshape(train_X, (train_X.shape[0], 1, train_X.shape[1]))\n",
    "test_X = np.reshape(test_X, (test_X.shape[0], 1, test_X.shape[1]))\n",
    "\n",
    "print('shape of trainh', train_Xh.shape)\n",
    "print('shape of traint', train_Xt.shape)\n",
    "\n",
    "print('shape of train', train_X.shape, train_y.shape)\n",
    "print('shape of test', test_X.shape, test_y.shape)"
   ]
  },
  {
   "cell_type": "code",
   "execution_count": 11,
   "metadata": {},
   "outputs": [],
   "source": [
    "from keras.layers import Input, Dense\n",
    "from keras.models import Model\n",
    "from keras.layers import concatenate\n",
    "\n",
    "hour_in = Input(shape=(train_Xh.shape[1] ,train_Xh.shape[2]), name='hour_in')\n",
    "temp_in = Input(shape=(train_Xt.shape[1], train_Xt.shape[2]), name='temp_in')\n",
    "value_in = Input(shape=(train_X.shape[1], train_X.shape[2]), name='value_in')"
   ]
  },
  {
   "cell_type": "code",
   "execution_count": 12,
   "metadata": {},
   "outputs": [],
   "source": [
    "hour = LSTM(64, batch_input_shape=(1, train_Xh.shape[1], train_Xh.shape[2]), activation='relu')(hour_in)\n",
    "temp = LSTM(64, batch_input_shape=(1, train_Xt.shape[1], train_Xt.shape[2]), activation='relu')(temp_in)\n",
    "value = LSTM(64, batch_input_shape=(1, train_X.shape[1],train_X.shape[2]), activation='relu')(value_in)"
   ]
  },
  {
   "cell_type": "code",
   "execution_count": 13,
   "metadata": {},
   "outputs": [],
   "source": [
    "mid = concatenate([hour, temp, value])\n",
    "mid = Dense(12, activation='relu')(mid)"
   ]
  },
  {
   "cell_type": "code",
   "execution_count": 14,
   "metadata": {},
   "outputs": [],
   "source": [
    "model = Model(inputs=[hour_in, temp_in, value_in], outputs=[mid])"
   ]
  },
  {
   "cell_type": "code",
   "execution_count": 15,
   "metadata": {},
   "outputs": [
    {
     "name": "stdout",
     "output_type": "stream",
     "text": [
      "__________________________________________________________________________________________________\n",
      "Layer (type)                    Output Shape         Param #     Connected to                     \n",
      "==================================================================================================\n",
      "hour_in (InputLayer)            (None, 1, 24)        0                                            \n",
      "__________________________________________________________________________________________________\n",
      "temp_in (InputLayer)            (None, 1, 24)        0                                            \n",
      "__________________________________________________________________________________________________\n",
      "value_in (InputLayer)           (None, 1, 12)        0                                            \n",
      "__________________________________________________________________________________________________\n",
      "lstm_1 (LSTM)                   (None, 64)           22784       hour_in[0][0]                    \n",
      "__________________________________________________________________________________________________\n",
      "lstm_2 (LSTM)                   (None, 64)           22784       temp_in[0][0]                    \n",
      "__________________________________________________________________________________________________\n",
      "lstm_3 (LSTM)                   (None, 64)           19712       value_in[0][0]                   \n",
      "__________________________________________________________________________________________________\n",
      "concatenate_1 (Concatenate)     (None, 192)          0           lstm_1[0][0]                     \n",
      "                                                                 lstm_2[0][0]                     \n",
      "                                                                 lstm_3[0][0]                     \n",
      "__________________________________________________________________________________________________\n",
      "dense_1 (Dense)                 (None, 12)           2316        concatenate_1[0][0]              \n",
      "==================================================================================================\n",
      "Total params: 67,596\n",
      "Trainable params: 67,596\n",
      "Non-trainable params: 0\n",
      "__________________________________________________________________________________________________\n"
     ]
    }
   ],
   "source": [
    "model.summary()"
   ]
  },
  {
   "cell_type": "code",
   "execution_count": 16,
   "metadata": {},
   "outputs": [
    {
     "name": "stdout",
     "output_type": "stream",
     "text": [
      "Epoch 1/50\n",
      "25795/25795 [==============================] - 95s 4ms/step - loss: 0.0310\n",
      "Epoch 2/50\n",
      "22932/25795 [=========================>....] - ETA: 9s - loss: 0.0252"
     ]
    },
    {
     "ename": "KeyboardInterrupt",
     "evalue": "",
     "output_type": "error",
     "traceback": [
      "\u001b[0;31m---------------------------------------------------------------------------\u001b[0m",
      "\u001b[0;31mKeyboardInterrupt\u001b[0m                         Traceback (most recent call last)",
      "\u001b[0;32m<ipython-input-16-9b95e85f91f1>\u001b[0m in \u001b[0;36m<module>\u001b[0;34m()\u001b[0m\n\u001b[1;32m      1\u001b[0m \u001b[0mmodel\u001b[0m\u001b[0;34m.\u001b[0m\u001b[0mcompile\u001b[0m\u001b[0;34m(\u001b[0m\u001b[0moptimizer\u001b[0m\u001b[0;34m=\u001b[0m\u001b[0;34m'adam'\u001b[0m\u001b[0;34m,\u001b[0m \u001b[0mloss\u001b[0m\u001b[0;34m=\u001b[0m\u001b[0;34m'mean_absolute_error'\u001b[0m\u001b[0;34m)\u001b[0m\u001b[0;34m\u001b[0m\u001b[0m\n\u001b[0;32m----> 2\u001b[0;31m \u001b[0mmodel\u001b[0m\u001b[0;34m.\u001b[0m\u001b[0mfit\u001b[0m\u001b[0;34m(\u001b[0m\u001b[0;34m[\u001b[0m\u001b[0mtrain_Xh\u001b[0m\u001b[0;34m,\u001b[0m \u001b[0mtrain_Xt\u001b[0m\u001b[0;34m,\u001b[0m \u001b[0mtrain_X\u001b[0m\u001b[0;34m]\u001b[0m\u001b[0;34m,\u001b[0m \u001b[0mtrain_y\u001b[0m\u001b[0;34m,\u001b[0m \u001b[0mepochs\u001b[0m\u001b[0;34m=\u001b[0m\u001b[0;36m50\u001b[0m \u001b[0;34m,\u001b[0m \u001b[0mbatch_size\u001b[0m\u001b[0;34m=\u001b[0m\u001b[0;36m1\u001b[0m\u001b[0;34m)\u001b[0m\u001b[0;34m\u001b[0m\u001b[0m\n\u001b[0m",
      "\u001b[0;32m/usr/local/lib/python3.5/dist-packages/keras/engine/training.py\u001b[0m in \u001b[0;36mfit\u001b[0;34m(self, x, y, batch_size, epochs, verbose, callbacks, validation_split, validation_data, shuffle, class_weight, sample_weight, initial_epoch, steps_per_epoch, validation_steps, **kwargs)\u001b[0m\n\u001b[1;32m   1037\u001b[0m                                         \u001b[0minitial_epoch\u001b[0m\u001b[0;34m=\u001b[0m\u001b[0minitial_epoch\u001b[0m\u001b[0;34m,\u001b[0m\u001b[0;34m\u001b[0m\u001b[0m\n\u001b[1;32m   1038\u001b[0m                                         \u001b[0msteps_per_epoch\u001b[0m\u001b[0;34m=\u001b[0m\u001b[0msteps_per_epoch\u001b[0m\u001b[0;34m,\u001b[0m\u001b[0;34m\u001b[0m\u001b[0m\n\u001b[0;32m-> 1039\u001b[0;31m                                         validation_steps=validation_steps)\n\u001b[0m\u001b[1;32m   1040\u001b[0m \u001b[0;34m\u001b[0m\u001b[0m\n\u001b[1;32m   1041\u001b[0m     def evaluate(self, x=None, y=None,\n",
      "\u001b[0;32m/usr/local/lib/python3.5/dist-packages/keras/engine/training_arrays.py\u001b[0m in \u001b[0;36mfit_loop\u001b[0;34m(model, f, ins, out_labels, batch_size, epochs, verbose, callbacks, val_f, val_ins, shuffle, callback_metrics, initial_epoch, steps_per_epoch, validation_steps)\u001b[0m\n\u001b[1;32m    197\u001b[0m                     \u001b[0mins_batch\u001b[0m\u001b[0;34m[\u001b[0m\u001b[0mi\u001b[0m\u001b[0;34m]\u001b[0m \u001b[0;34m=\u001b[0m \u001b[0mins_batch\u001b[0m\u001b[0;34m[\u001b[0m\u001b[0mi\u001b[0m\u001b[0;34m]\u001b[0m\u001b[0;34m.\u001b[0m\u001b[0mtoarray\u001b[0m\u001b[0;34m(\u001b[0m\u001b[0;34m)\u001b[0m\u001b[0;34m\u001b[0m\u001b[0m\n\u001b[1;32m    198\u001b[0m \u001b[0;34m\u001b[0m\u001b[0m\n\u001b[0;32m--> 199\u001b[0;31m                 \u001b[0mouts\u001b[0m \u001b[0;34m=\u001b[0m \u001b[0mf\u001b[0m\u001b[0;34m(\u001b[0m\u001b[0mins_batch\u001b[0m\u001b[0;34m)\u001b[0m\u001b[0;34m\u001b[0m\u001b[0m\n\u001b[0m\u001b[1;32m    200\u001b[0m                 \u001b[0mouts\u001b[0m \u001b[0;34m=\u001b[0m \u001b[0mto_list\u001b[0m\u001b[0;34m(\u001b[0m\u001b[0mouts\u001b[0m\u001b[0;34m)\u001b[0m\u001b[0;34m\u001b[0m\u001b[0m\n\u001b[1;32m    201\u001b[0m                 \u001b[0;32mfor\u001b[0m \u001b[0ml\u001b[0m\u001b[0;34m,\u001b[0m \u001b[0mo\u001b[0m \u001b[0;32min\u001b[0m \u001b[0mzip\u001b[0m\u001b[0;34m(\u001b[0m\u001b[0mout_labels\u001b[0m\u001b[0;34m,\u001b[0m \u001b[0mouts\u001b[0m\u001b[0;34m)\u001b[0m\u001b[0;34m:\u001b[0m\u001b[0;34m\u001b[0m\u001b[0m\n",
      "\u001b[0;32m/usr/local/lib/python3.5/dist-packages/keras/backend/tensorflow_backend.py\u001b[0m in \u001b[0;36m__call__\u001b[0;34m(self, inputs)\u001b[0m\n\u001b[1;32m   2713\u001b[0m                 \u001b[0;32mreturn\u001b[0m \u001b[0mself\u001b[0m\u001b[0;34m.\u001b[0m\u001b[0m_legacy_call\u001b[0m\u001b[0;34m(\u001b[0m\u001b[0minputs\u001b[0m\u001b[0;34m)\u001b[0m\u001b[0;34m\u001b[0m\u001b[0m\n\u001b[1;32m   2714\u001b[0m \u001b[0;34m\u001b[0m\u001b[0m\n\u001b[0;32m-> 2715\u001b[0;31m             \u001b[0;32mreturn\u001b[0m \u001b[0mself\u001b[0m\u001b[0;34m.\u001b[0m\u001b[0m_call\u001b[0m\u001b[0;34m(\u001b[0m\u001b[0minputs\u001b[0m\u001b[0;34m)\u001b[0m\u001b[0;34m\u001b[0m\u001b[0m\n\u001b[0m\u001b[1;32m   2716\u001b[0m         \u001b[0;32melse\u001b[0m\u001b[0;34m:\u001b[0m\u001b[0;34m\u001b[0m\u001b[0m\n\u001b[1;32m   2717\u001b[0m             \u001b[0;32mif\u001b[0m \u001b[0mpy_any\u001b[0m\u001b[0;34m(\u001b[0m\u001b[0mis_tensor\u001b[0m\u001b[0;34m(\u001b[0m\u001b[0mx\u001b[0m\u001b[0;34m)\u001b[0m \u001b[0;32mfor\u001b[0m \u001b[0mx\u001b[0m \u001b[0;32min\u001b[0m \u001b[0minputs\u001b[0m\u001b[0;34m)\u001b[0m\u001b[0;34m:\u001b[0m\u001b[0;34m\u001b[0m\u001b[0m\n",
      "\u001b[0;32m/usr/local/lib/python3.5/dist-packages/keras/backend/tensorflow_backend.py\u001b[0m in \u001b[0;36m_call\u001b[0;34m(self, inputs)\u001b[0m\n\u001b[1;32m   2673\u001b[0m             \u001b[0mfetched\u001b[0m \u001b[0;34m=\u001b[0m \u001b[0mself\u001b[0m\u001b[0;34m.\u001b[0m\u001b[0m_callable_fn\u001b[0m\u001b[0;34m(\u001b[0m\u001b[0;34m*\u001b[0m\u001b[0marray_vals\u001b[0m\u001b[0;34m,\u001b[0m \u001b[0mrun_metadata\u001b[0m\u001b[0;34m=\u001b[0m\u001b[0mself\u001b[0m\u001b[0;34m.\u001b[0m\u001b[0mrun_metadata\u001b[0m\u001b[0;34m)\u001b[0m\u001b[0;34m\u001b[0m\u001b[0m\n\u001b[1;32m   2674\u001b[0m         \u001b[0;32melse\u001b[0m\u001b[0;34m:\u001b[0m\u001b[0;34m\u001b[0m\u001b[0m\n\u001b[0;32m-> 2675\u001b[0;31m             \u001b[0mfetched\u001b[0m \u001b[0;34m=\u001b[0m \u001b[0mself\u001b[0m\u001b[0;34m.\u001b[0m\u001b[0m_callable_fn\u001b[0m\u001b[0;34m(\u001b[0m\u001b[0;34m*\u001b[0m\u001b[0marray_vals\u001b[0m\u001b[0;34m)\u001b[0m\u001b[0;34m\u001b[0m\u001b[0m\n\u001b[0m\u001b[1;32m   2676\u001b[0m         \u001b[0;32mreturn\u001b[0m \u001b[0mfetched\u001b[0m\u001b[0;34m[\u001b[0m\u001b[0;34m:\u001b[0m\u001b[0mlen\u001b[0m\u001b[0;34m(\u001b[0m\u001b[0mself\u001b[0m\u001b[0;34m.\u001b[0m\u001b[0moutputs\u001b[0m\u001b[0;34m)\u001b[0m\u001b[0;34m]\u001b[0m\u001b[0;34m\u001b[0m\u001b[0m\n\u001b[1;32m   2677\u001b[0m \u001b[0;34m\u001b[0m\u001b[0m\n",
      "\u001b[0;32m/usr/local/lib/python3.5/dist-packages/tensorflow/python/client/session.py\u001b[0m in \u001b[0;36m__call__\u001b[0;34m(self, *args, **kwargs)\u001b[0m\n\u001b[1;32m   1380\u001b[0m           ret = tf_session.TF_SessionRunCallable(\n\u001b[1;32m   1381\u001b[0m               \u001b[0mself\u001b[0m\u001b[0;34m.\u001b[0m\u001b[0m_session\u001b[0m\u001b[0;34m.\u001b[0m\u001b[0m_session\u001b[0m\u001b[0;34m,\u001b[0m \u001b[0mself\u001b[0m\u001b[0;34m.\u001b[0m\u001b[0m_handle\u001b[0m\u001b[0;34m,\u001b[0m \u001b[0margs\u001b[0m\u001b[0;34m,\u001b[0m \u001b[0mstatus\u001b[0m\u001b[0;34m,\u001b[0m\u001b[0;34m\u001b[0m\u001b[0m\n\u001b[0;32m-> 1382\u001b[0;31m               run_metadata_ptr)\n\u001b[0m\u001b[1;32m   1383\u001b[0m         \u001b[0;32mif\u001b[0m \u001b[0mrun_metadata\u001b[0m\u001b[0;34m:\u001b[0m\u001b[0;34m\u001b[0m\u001b[0m\n\u001b[1;32m   1384\u001b[0m           \u001b[0mproto_data\u001b[0m \u001b[0;34m=\u001b[0m \u001b[0mtf_session\u001b[0m\u001b[0;34m.\u001b[0m\u001b[0mTF_GetBuffer\u001b[0m\u001b[0;34m(\u001b[0m\u001b[0mrun_metadata_ptr\u001b[0m\u001b[0;34m)\u001b[0m\u001b[0;34m\u001b[0m\u001b[0m\n",
      "\u001b[0;31mKeyboardInterrupt\u001b[0m: "
     ]
    }
   ],
   "source": [
    "model.compile(optimizer='adam', loss='mean_absolute_error')\n",
    "model.fit([train_Xh, train_Xt, train_X], train_y, epochs=50 , batch_size=1)"
   ]
  },
  {
   "cell_type": "code",
   "execution_count": null,
   "metadata": {},
   "outputs": [],
   "source": [
    "test_Xh = test[:,:24]\n",
    "test_Xt = test[:,24:48]\n",
    "\n",
    "test_Xh = np.reshape(test_Xh, (test_Xh.shape[0], 1, test_Xh.shape[1]))\n",
    "test_Xt = np.reshape(test_Xt, (test_Xt.shape[0], 1, test_Xt.shape[1]))"
   ]
  },
  {
   "cell_type": "code",
   "execution_count": null,
   "metadata": {},
   "outputs": [],
   "source": [
    "pred = model.predict([test_Xh, test_Xt, test_X], batch_size=1)"
   ]
  },
  {
   "cell_type": "code",
   "execution_count": null,
   "metadata": {},
   "outputs": [],
   "source": [
    "# test_Xh = test[:,:24]\n",
    "# test_Xt = test[:,24:48]\n",
    "\n",
    "# test_Xh = np.reshape(test_Xh, (test_Xh.shape[0], 1, test_Xh.shape[1]))\n",
    "# test_Xt = np.reshape(test_Xt, (test_Xt.shape[0], 1, test_Xt.shape[1]))"
   ]
  },
  {
   "cell_type": "code",
   "execution_count": null,
   "metadata": {},
   "outputs": [],
   "source": [
    "act = test_y"
   ]
  },
  {
   "cell_type": "code",
   "execution_count": null,
   "metadata": {},
   "outputs": [],
   "source": [
    "import matplotlib.pyplot as plt\n",
    "\n",
    "\n",
    "plt.plot(pred[0], 'r')\n",
    "plt.plot(act[0])"
   ]
  },
  {
   "cell_type": "code",
   "execution_count": null,
   "metadata": {},
   "outputs": [],
   "source": [
    "rsme = np.sqrt(np.mean((pred[0]-act[0])**2))\n",
    "rsme"
   ]
  },
  {
   "cell_type": "code",
   "execution_count": null,
   "metadata": {},
   "outputs": [],
   "source": [
    "scal = MinMaxScaler(feature_range=(0,1))\n",
    "scald = scal.fit_transform(values[:, -12:])\n",
    "\n",
    "pred_inv = scal.inverse_transform(pred)\n",
    "act_inv = scal.inverse_transform(act)"
   ]
  },
  {
   "cell_type": "code",
   "execution_count": null,
   "metadata": {},
   "outputs": [],
   "source": [
    "rsme = np.sqrt(np.mean((pred_inv[0]-act_inv[0])**2))\n",
    "rsme"
   ]
  },
  {
   "cell_type": "code",
   "execution_count": null,
   "metadata": {},
   "outputs": [],
   "source": [
    "\n",
    "\n",
    "clr = ['r','b','c','g','y','m', 'k', 'r', 'b','g']\n",
    "def plot_forecasts(series, forecasts, n_test):\n",
    "    s = 0\n",
    "    plt.style.use('seaborn-dark')\n",
    "#     plt.style.use('fivethirtyeight')\n",
    "    plt.figure(figsize=(20,10))\n",
    "    plt.plot(series.values, linewidth=10, alpha=0.3,label='Actual')\n",
    "    for i in range(len(forecasts)):\n",
    "        #print(i)\n",
    "        off_s = len(series) - n_test + i - 1\n",
    "        off_e = off_s + len(forecasts[i]) + 1\n",
    "        xaxis = [x for x in range(off_s-9, off_e-9)]\n",
    "\n",
    "        yaxis = [series.values[off_s-9]]# + forecasts[i]\n",
    "        #print(type(yaxis))\n",
    "#         yaxis=[]\n",
    "        for e in forecasts[i]:\n",
    "            yaxis.append(e)\n",
    "        #print(type(yaxis), len(yaxis))\n",
    "        #print(yaxis)\n",
    "        s = s +0.1\n",
    "#         if i%2 != 0:\n",
    "        plt.plot(xaxis, yaxis, label=\"test\"+str(i+1))#, color=clr[i])#, alpha = s)\n",
    "\n",
    "    plt.legend(loc = 'upper left', fontsize=20)\n",
    "    plt.rc('xtick',labelsize=20)\n",
    "    plt.rc('ytick',labelsize=20)\n",
    "    plt.xlabel('Sample No.', fontsize=20)\n",
    "    plt.ylabel('Demand (kW)', fontsize=20)\n",
    "    plt.title('LSTM prediction for an hour ahead', fontsize=20)\n",
    "    plt.savefig('LSTM.png', dpi=200)"
   ]
  },
  {
   "cell_type": "code",
   "execution_count": null,
   "metadata": {},
   "outputs": [],
   "source": [
    "plot_forecasts(data['Value'][-25:], pred_inv, 10+2)"
   ]
  },
  {
   "cell_type": "code",
   "execution_count": null,
   "metadata": {},
   "outputs": [],
   "source": [
    "plt.style.available"
   ]
  },
  {
   "cell_type": "code",
   "execution_count": null,
   "metadata": {},
   "outputs": [],
   "source": [
    "rsme"
   ]
  },
  {
   "cell_type": "code",
   "execution_count": null,
   "metadata": {},
   "outputs": [],
   "source": []
  }
 ],
 "metadata": {
  "kernelspec": {
   "display_name": "Python 3",
   "language": "python",
   "name": "python3"
  },
  "language_info": {
   "codemirror_mode": {
    "name": "ipython",
    "version": 3
   },
   "file_extension": ".py",
   "mimetype": "text/x-python",
   "name": "python",
   "nbconvert_exporter": "python",
   "pygments_lexer": "ipython3",
   "version": "3.5.2"
  }
 },
 "nbformat": 4,
 "nbformat_minor": 2
}
